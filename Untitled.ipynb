{
 "cells": [
  {
   "cell_type": "code",
   "execution_count": 3,
   "id": "05d72b02",
   "metadata": {},
   "outputs": [
    {
     "name": "stdout",
     "output_type": "stream",
     "text": [
      "[5, 6, 8, 67, 70]\n"
     ]
    }
   ],
   "source": [
    "list = [6,5,67,8,70]\n",
    "lenth = len(list)\n",
    "for i in range(0, lenth - 1):\n",
    "    for j in range(i + 1, lenth):\n",
    "        if (list[i] > list[j]):\n",
    "            tmp = list[i]\n",
    "            list[i] = list[j]\n",
    "            list[j] = tmp\n",
    "print(list)"
   ]
  },
  {
   "cell_type": "code",
   "execution_count": null,
   "id": "739ace10",
   "metadata": {},
   "outputs": [],
   "source": []
  },
  {
   "cell_type": "code",
   "execution_count": null,
   "id": "3bede343",
   "metadata": {},
   "outputs": [],
   "source": []
  },
  {
   "cell_type": "code",
   "execution_count": null,
   "id": "95dd54ca",
   "metadata": {},
   "outputs": [],
   "source": []
  }
 ],
 "metadata": {
  "kernelspec": {
   "display_name": "Python 3",
   "language": "python",
   "name": "python3"
  },
  "language_info": {
   "codemirror_mode": {
    "name": "ipython",
    "version": 3
   },
   "file_extension": ".py",
   "mimetype": "text/x-python",
   "name": "python",
   "nbconvert_exporter": "python",
   "pygments_lexer": "ipython3",
   "version": "3.8.8"
  }
 },
 "nbformat": 4,
 "nbformat_minor": 5
}
